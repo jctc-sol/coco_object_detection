{
  "nbformat": 4,
  "nbformat_minor": 0,
  "metadata": {
    "colab": {
      "name": "Unet.ipynb",
      "provenance": [],
      "authorship_tag": "ABX9TyPMtExqNxEoD/RX2lMcOPpJ"
    },
    "kernelspec": {
      "name": "python3",
      "display_name": "Python 3"
    }
  },
  "cells": [
    {
      "cell_type": "code",
      "metadata": {
        "id": "QVrjASbrJNK-"
      },
      "source": [
        "import torch\r\n",
        "import torch.nn as nn\r\n",
        "from torch.nn import Sequential, Conv2d, ReLU, MaxPool2d"
      ],
      "execution_count": 1,
      "outputs": []
    },
    {
      "cell_type": "code",
      "metadata": {
        "id": "aCSNz71LJRUn"
      },
      "source": [
        "image = torch.rand((1,1,512,512))"
      ],
      "execution_count": 2,
      "outputs": []
    },
    {
      "cell_type": "code",
      "metadata": {
        "id": "LXcYU4qvJSP9"
      },
      "source": [
        "class Unet(nn.Module):\r\n",
        "    def __init__(self):\r\n",
        "        super().__init__()\r\n",
        "\r\n",
        "    def forward(self, img):\r\n",
        "        ########### DOWN ###########\r\n",
        "        x0 = self.down_conv(1,64)(img)\r\n",
        "        print(\"x0:\", x0.size())\r\n",
        "\r\n",
        "        x1 = self.down_layer(64,128)(x0)\r\n",
        "        print(\"x1:\", x1.size())\r\n",
        "\r\n",
        "        x2 = self.down_layer(128,256)(x1)\r\n",
        "        print(\"x2:\", x2.size())\r\n",
        "\r\n",
        "        x3 = self.down_layer(256,512)(x2)\r\n",
        "        print(\"x3:\", x3.size())\r\n",
        "\r\n",
        "        x4 = self.down_layer(512,1024)(x3)\r\n",
        "        print(\"x4:\", x4.size())\r\n",
        "\r\n",
        "        ############ UP ############\r\n",
        "        y3 = self.up_layer(x4, x3, 1024, 512)\r\n",
        "        print(\"y3:\", y3.size())\r\n",
        "\r\n",
        "        y2 = self.up_layer(y3, x2, 512, 256)\r\n",
        "        print(\"y2:\", y2.size())\r\n",
        "\r\n",
        "        y1 = self.up_layer(y2, x1, 256, 128)\r\n",
        "        print(\"y1:\", y1.size())\r\n",
        "    \r\n",
        "        y0 = self.up_layer(y1, x0, 128, 64)\r\n",
        "        print(\"y0:\", y0.size())\r\n",
        "\r\n",
        "        res = Conv2d(64, 2, kernel_size=1, padding=0)(y0)\r\n",
        "        print(\"r:\", res.size())\r\n",
        "\r\n",
        "\r\n",
        "    def down_conv(self, cin, cout):\r\n",
        "        return Sequential(Conv2d(cin, cout, kernel_size=3, padding=1),ReLU(),\r\n",
        "                          Conv2d(cout,cout, kernel_size=3, padding=1), ReLU())\r\n",
        "\r\n",
        "    def down_layer(self, cin, cout):\r\n",
        "        return Sequential(MaxPool2d(kernel_size=2, stride=2),\r\n",
        "                        self.down_conv(cin,cout))\r\n",
        "        \r\n",
        "    def up_conv(self, cin, cout):\r\n",
        "        return nn.ConvTranspose2d(cin, cout, kernel_size=2, stride=2)\r\n",
        "    \r\n",
        "    def up_layer(self, up, across, cin, cout):\r\n",
        "        y = self.up_conv(cin, cout)(up)\r\n",
        "        combined = torch.cat([across, y], 1)\r\n",
        "        return self.down_conv(cin, cout)(combined)\r\n",
        "    # def up_layer(self, cin, cout)"
      ],
      "execution_count": 3,
      "outputs": []
    },
    {
      "cell_type": "code",
      "metadata": {
        "colab": {
          "base_uri": "https://localhost:8080/"
        },
        "id": "fsjbayg8JVP9",
        "outputId": "d78dbafa-c316-4c88-c2dd-35a5421e78a3"
      },
      "source": [
        "u = Unet()\r\n",
        "u(image)"
      ],
      "execution_count": 4,
      "outputs": [
        {
          "output_type": "stream",
          "text": [
            "x0: torch.Size([1, 64, 512, 512])\n",
            "x1: torch.Size([1, 128, 256, 256])\n",
            "x2: torch.Size([1, 256, 128, 128])\n",
            "x3: torch.Size([1, 512, 64, 64])\n",
            "x4: torch.Size([1, 1024, 32, 32])\n",
            "y3: torch.Size([1, 512, 64, 64])\n",
            "y2: torch.Size([1, 256, 128, 128])\n",
            "y1: torch.Size([1, 128, 256, 256])\n",
            "y0: torch.Size([1, 64, 512, 512])\n",
            "r: torch.Size([1, 2, 512, 512])\n"
          ],
          "name": "stdout"
        }
      ]
    },
    {
      "cell_type": "code",
      "metadata": {
        "colab": {
          "base_uri": "https://localhost:8080/"
        },
        "id": "MMKHAOC0JWq_",
        "outputId": "50555009-14fb-486b-ed55-dd1be16eea89"
      },
      "source": [
        "print(u)"
      ],
      "execution_count": 5,
      "outputs": [
        {
          "output_type": "stream",
          "text": [
            "Unet()\n"
          ],
          "name": "stdout"
        }
      ]
    },
    {
      "cell_type": "code",
      "metadata": {
        "id": "5RHBZeAfJYxm"
      },
      "source": [
        ""
      ],
      "execution_count": null,
      "outputs": []
    }
  ]
}